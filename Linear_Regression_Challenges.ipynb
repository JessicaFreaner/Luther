{
 "metadata": {
  "name": "",
  "signature": "sha256:440df763ff480146a891f1a0936d7f96982b0c084499ec0ffab2b1285614d320"
 },
 "nbformat": 3,
 "nbformat_minor": 0,
 "worksheets": [
  {
   "cells": [
    {
     "cell_type": "heading",
     "level": 1,
     "metadata": {},
     "source": [
      "Challenge 1"
     ]
    },
    {
     "cell_type": "markdown",
     "metadata": {},
     "source": [
      "We are fitting and checking the predictions on the exact same dataset! Divide your data into two sets: a training and a test set (roughly 75% training, %25 test). Fit a model on the training set, check the predictions (by plotting versus actual values) in the test set."
     ]
    },
    {
     "cell_type": "code",
     "collapsed": false,
     "input": [
      "%matplotlib inline\n",
      "import pandas as pd\n",
      "import numpy as np\n",
      "from datetime import datetime\n",
      "import matplotlib.pyplot as plt\n",
      "import statsmodels.formula.api as sm\n",
      "from sklearn.linear_model import LinearRegression\n"
     ],
     "language": "python",
     "metadata": {},
     "outputs": [],
     "prompt_number": 1
    },
    {
     "cell_type": "code",
     "collapsed": false,
     "input": [
      "movies = pd.read_csv('2013_movies.csv', parse_dates={'Date':['ReleaseDate']})\n",
      "movies ['Date'] = movies['Date'].astype(datetime)\n",
      "\n",
      "movies_with_bugdet = movies.dropna()\n",
      "movies_with_bugdet.head()"
     ],
     "language": "python",
     "metadata": {},
     "outputs": [
      {
       "html": [
        "<div style=\"max-height:1000px;max-width:1500px;overflow:auto;\">\n",
        "<table border=\"1\" class=\"dataframe\">\n",
        "  <thead>\n",
        "    <tr style=\"text-align: right;\">\n",
        "      <th></th>\n",
        "      <th>Date</th>\n",
        "      <th>Title</th>\n",
        "      <th>Budget</th>\n",
        "      <th>DomesticTotalGross</th>\n",
        "      <th>Director</th>\n",
        "      <th>Rating</th>\n",
        "      <th>Runtime</th>\n",
        "    </tr>\n",
        "  </thead>\n",
        "  <tbody>\n",
        "    <tr>\n",
        "      <th>0</th>\n",
        "      <td>2013-11-22</td>\n",
        "      <td> The Hunger Games: Catching Fire</td>\n",
        "      <td> 130000000</td>\n",
        "      <td> 424668047</td>\n",
        "      <td>          Francis Lawrence</td>\n",
        "      <td> PG-13</td>\n",
        "      <td> 146</td>\n",
        "    </tr>\n",
        "    <tr>\n",
        "      <th>1</th>\n",
        "      <td>2013-05-03</td>\n",
        "      <td>                      Iron Man 3</td>\n",
        "      <td> 200000000</td>\n",
        "      <td> 409013994</td>\n",
        "      <td>               Shane Black</td>\n",
        "      <td> PG-13</td>\n",
        "      <td> 129</td>\n",
        "    </tr>\n",
        "    <tr>\n",
        "      <th>2</th>\n",
        "      <td>2013-11-22</td>\n",
        "      <td>                          Frozen</td>\n",
        "      <td> 150000000</td>\n",
        "      <td> 400738009</td>\n",
        "      <td>    Chris BuckJennifer Lee</td>\n",
        "      <td>    PG</td>\n",
        "      <td> 108</td>\n",
        "    </tr>\n",
        "    <tr>\n",
        "      <th>3</th>\n",
        "      <td>2013-07-03</td>\n",
        "      <td>                 Despicable Me 2</td>\n",
        "      <td>  76000000</td>\n",
        "      <td> 368061265</td>\n",
        "      <td> Pierre CoffinChris Renaud</td>\n",
        "      <td>    PG</td>\n",
        "      <td>  98</td>\n",
        "    </tr>\n",
        "    <tr>\n",
        "      <th>4</th>\n",
        "      <td>2013-06-14</td>\n",
        "      <td>                    Man of Steel</td>\n",
        "      <td> 225000000</td>\n",
        "      <td> 291045518</td>\n",
        "      <td>               Zack Snyder</td>\n",
        "      <td> PG-13</td>\n",
        "      <td> 143</td>\n",
        "    </tr>\n",
        "  </tbody>\n",
        "</table>\n",
        "</div>"
       ],
       "metadata": {},
       "output_type": "pyout",
       "prompt_number": 2,
       "text": [
        "        Date                            Title     Budget  DomesticTotalGross  \\\n",
        "0 2013-11-22  The Hunger Games: Catching Fire  130000000           424668047   \n",
        "1 2013-05-03                       Iron Man 3  200000000           409013994   \n",
        "2 2013-11-22                           Frozen  150000000           400738009   \n",
        "3 2013-07-03                  Despicable Me 2   76000000           368061265   \n",
        "4 2013-06-14                     Man of Steel  225000000           291045518   \n",
        "\n",
        "                    Director Rating  Runtime  \n",
        "0           Francis Lawrence  PG-13      146  \n",
        "1                Shane Black  PG-13      129  \n",
        "2     Chris BuckJennifer Lee     PG      108  \n",
        "3  Pierre CoffinChris Renaud     PG       98  \n",
        "4                Zack Snyder  PG-13      143  "
       ]
      }
     ],
     "prompt_number": 2
    },
    {
     "cell_type": "code",
     "collapsed": false,
     "input": [
      "from sklearn import cross_validation"
     ],
     "language": "python",
     "metadata": {},
     "outputs": [],
     "prompt_number": 3
    },
    {
     "cell_type": "code",
     "collapsed": false,
     "input": [
      "train_test = cross_validation.train_test_split(movies_with_bugdet, test_size=.25, train_size=.75)"
     ],
     "language": "python",
     "metadata": {},
     "outputs": [],
     "prompt_number": 4
    },
    {
     "cell_type": "code",
     "collapsed": false,
     "input": [
      "train_set = train_test[0]\n",
      "test_set = train_test[1]\n",
      "\n",
      "headers = list(movies_with_bugdet.columns.values)\n",
      "train_df = pd.DataFrame(train_set, columns=headers)\n",
      "test_df = pd.DataFrame(test_set, columns=headers)\n",
      "\n",
      "train_df.dtypes"
     ],
     "language": "python",
     "metadata": {},
     "outputs": [
      {
       "metadata": {},
       "output_type": "pyout",
       "prompt_number": 5,
       "text": [
        "Date                  object\n",
        "Title                 object\n",
        "Budget                object\n",
        "DomesticTotalGross    object\n",
        "Director              object\n",
        "Rating                object\n",
        "Runtime               object\n",
        "dtype: object"
       ]
      }
     ],
     "prompt_number": 5
    },
    {
     "cell_type": "code",
     "collapsed": false,
     "input": [
      "from sklearn.linear_model import LinearRegression\n",
      "\n",
      "X_train = train_df[['Budget']].astype(float)\n",
      "Y_train = train_df['DomesticTotalGross'].astype(float)\n",
      "X_test = test_df[['Budget']].astype(float)\n",
      "Y_test = test_df['DomesticTotalGross'].astype(float)\n",
      "\n",
      "# X_train.head()\n",
      "\n",
      "sk_linmodel = LinearRegression()\n",
      "sk_linmodel.fit(X_train, Y_train)\n",
      "\n",
      "print 'coefficient:  \\t %g' % sk_linmodel.coef_\n",
      "print 'intercept:    \\t %g' % sk_linmodel.intercept_\n",
      "print 'training R^2: \\t %g' % sk_linmodel.score(X_train, Y_train)\n",
      "print 'test R^2:     \\t %g' % sk_linmodel.score(X_test, Y_test)"
     ],
     "language": "python",
     "metadata": {},
     "outputs": [
      {
       "output_type": "stream",
       "stream": "stdout",
       "text": [
        "coefficient:  \t 0.809809\n",
        "intercept:    \t 4.38896e+07\n",
        "training R^2: \t 0.286283\n",
        "test R^2:     \t 0.092636\n"
       ]
      }
     ],
     "prompt_number": 6
    },
    {
     "cell_type": "code",
     "collapsed": false,
     "input": [
      "plt.plot(X_train, Y_train, 'b^')\n",
      "plt.plot(X_test, Y_test, 'ro')\n",
      "\n",
      "plt.xlabel('Budget')\n",
      "plt.ylabel('Box Office')\n",
      "plt.plot(X_train, sk_linmodel.predict(X_train), 'g-')\n",
      "plt.plot(X_test, sk_linmodel.predict(X_test), 'yo')\n",
      "\n",
      "plt.title('How does budget relate to final box office revenue?')\n",
      "plt.xlabel('Budget')\n",
      "plt.ylabel('Box Office Revenue')"
     ],
     "language": "python",
     "metadata": {},
     "outputs": [
      {
       "metadata": {},
       "output_type": "pyout",
       "prompt_number": 7,
       "text": [
        "<matplotlib.text.Text at 0x1090c5790>"
       ]
      },
      {
       "metadata": {},
       "output_type": "display_data",
       "png": "[encoded data removed]",
       "text": [
        "<matplotlib.figure.Figure at 0x1090fdc50>"
       ]
      }
     ],
     "prompt_number": 7
    },
    {
     "cell_type": "markdown",
     "metadata": {},
     "source": [
      "My train set is a poor predictor for my test set. Not well defined by linear model. \n",
      "training R^2: \t 0.306809\n",
      "test R^2:     \t -0.0564239\n"
     ]
    },
    {
     "cell_type": "heading",
     "level": 1,
     "metadata": {},
     "source": [
      "Challenge 2"
     ]
    },
    {
     "cell_type": "markdown",
     "metadata": {},
     "source": [
      "Build a model that also uses average director gross as a feature (one of the predictor variables). Fit and evaluate. Would you use this model to predict gross revenues of upcoming movies?"
     ]
    },
    {
     "cell_type": "code",
     "collapsed": false,
     "input": [
      "group_by_director = movies_with_bugdet.groupby('Director')\n",
      "director_gross = group_by_director['DomesticTotalGross'].mean()\n",
      "director_gross.head()"
     ],
     "language": "python",
     "metadata": {},
     "outputs": [
      {
       "metadata": {},
       "output_type": "pyout",
       "prompt_number": 8,
       "text": [
        "Director\n",
        "Adam McKay           125168368\n",
        "Alan Taylor          206362140\n",
        "Alfonso Cuaron       274092705\n",
        "Andres Muschietti     71628180\n",
        "Andrew Niccol         26627201\n",
        "Name: DomesticTotalGross, dtype: int64"
       ]
      }
     ],
     "prompt_number": 8
    },
    {
     "cell_type": "code",
     "collapsed": false,
     "input": [
      "movies_with_bugdet['AvgDirectorGross'] = movies_with_bugdet['Director'].apply(lambda x: director_gross[x])"
     ],
     "language": "python",
     "metadata": {},
     "outputs": [],
     "prompt_number": 11
    },
    {
     "cell_type": "code",
     "collapsed": false,
     "input": [
      "# director_count = director_count.drop('DirectorAvgGross',1) # Note: zero indexed\n",
      "movies_with_bugdet.head()"
     ],
     "language": "python",
     "metadata": {},
     "outputs": [
      {
       "html": [
        "<div style=\"max-height:1000px;max-width:1500px;overflow:auto;\">\n",
        "<table border=\"1\" class=\"dataframe\">\n",
        "  <thead>\n",
        "    <tr style=\"text-align: right;\">\n",
        "      <th></th>\n",
        "      <th>Date</th>\n",
        "      <th>Title</th>\n",
        "      <th>Budget</th>\n",
        "      <th>DomesticTotalGross</th>\n",
        "      <th>Director</th>\n",
        "      <th>Rating</th>\n",
        "      <th>Runtime</th>\n",
        "      <th>AvgDirectorGross</th>\n",
        "    </tr>\n",
        "  </thead>\n",
        "  <tbody>\n",
        "    <tr>\n",
        "      <th>0</th>\n",
        "      <td>2013-11-22</td>\n",
        "      <td> The Hunger Games: Catching Fire</td>\n",
        "      <td> 130000000</td>\n",
        "      <td> 424668047</td>\n",
        "      <td>          Francis Lawrence</td>\n",
        "      <td> PG-13</td>\n",
        "      <td> 146</td>\n",
        "      <td> 424668047</td>\n",
        "    </tr>\n",
        "    <tr>\n",
        "      <th>1</th>\n",
        "      <td>2013-05-03</td>\n",
        "      <td>                      Iron Man 3</td>\n",
        "      <td> 200000000</td>\n",
        "      <td> 409013994</td>\n",
        "      <td>               Shane Black</td>\n",
        "      <td> PG-13</td>\n",
        "      <td> 129</td>\n",
        "      <td> 409013994</td>\n",
        "    </tr>\n",
        "    <tr>\n",
        "      <th>2</th>\n",
        "      <td>2013-11-22</td>\n",
        "      <td>                          Frozen</td>\n",
        "      <td> 150000000</td>\n",
        "      <td> 400738009</td>\n",
        "      <td>    Chris BuckJennifer Lee</td>\n",
        "      <td>    PG</td>\n",
        "      <td> 108</td>\n",
        "      <td> 400738009</td>\n",
        "    </tr>\n",
        "    <tr>\n",
        "      <th>3</th>\n",
        "      <td>2013-07-03</td>\n",
        "      <td>                 Despicable Me 2</td>\n",
        "      <td>  76000000</td>\n",
        "      <td> 368061265</td>\n",
        "      <td> Pierre CoffinChris Renaud</td>\n",
        "      <td>    PG</td>\n",
        "      <td>  98</td>\n",
        "      <td> 368061265</td>\n",
        "    </tr>\n",
        "    <tr>\n",
        "      <th>4</th>\n",
        "      <td>2013-06-14</td>\n",
        "      <td>                    Man of Steel</td>\n",
        "      <td> 225000000</td>\n",
        "      <td> 291045518</td>\n",
        "      <td>               Zack Snyder</td>\n",
        "      <td> PG-13</td>\n",
        "      <td> 143</td>\n",
        "      <td> 291045518</td>\n",
        "    </tr>\n",
        "  </tbody>\n",
        "</table>\n",
        "</div>"
       ],
       "metadata": {},
       "output_type": "pyout",
       "prompt_number": 12,
       "text": [
        "        Date                            Title     Budget  DomesticTotalGross  \\\n",
        "0 2013-11-22  The Hunger Games: Catching Fire  130000000           424668047   \n",
        "1 2013-05-03                       Iron Man 3  200000000           409013994   \n",
        "2 2013-11-22                           Frozen  150000000           400738009   \n",
        "3 2013-07-03                  Despicable Me 2   76000000           368061265   \n",
        "4 2013-06-14                     Man of Steel  225000000           291045518   \n",
        "\n",
        "                    Director Rating  Runtime  AvgDirectorGross  \n",
        "0           Francis Lawrence  PG-13      146         424668047  \n",
        "1                Shane Black  PG-13      129         409013994  \n",
        "2     Chris BuckJennifer Lee     PG      108         400738009  \n",
        "3  Pierre CoffinChris Renaud     PG       98         368061265  \n",
        "4                Zack Snyder  PG-13      143         291045518  "
       ]
      }
     ],
     "prompt_number": 12
    },
    {
     "cell_type": "code",
     "collapsed": false,
     "input": [
      "director_count = group_by_director.count() # only 2 directors with more than one film\n",
      "director_count.sort('Title', inplace=True, ascending=False)\n",
      "director_count.head()"
     ],
     "language": "python",
     "metadata": {},
     "outputs": [
      {
       "html": [
        "<div style=\"max-height:1000px;max-width:1500px;overflow:auto;\">\n",
        "<table border=\"1\" class=\"dataframe\">\n",
        "  <thead>\n",
        "    <tr style=\"text-align: right;\">\n",
        "      <th></th>\n",
        "      <th>Date</th>\n",
        "      <th>Title</th>\n",
        "      <th>Budget</th>\n",
        "      <th>DomesticTotalGross</th>\n",
        "      <th>Rating</th>\n",
        "      <th>Runtime</th>\n",
        "      <th>AvgDirectorGross</th>\n",
        "    </tr>\n",
        "    <tr>\n",
        "      <th>Director</th>\n",
        "      <th></th>\n",
        "      <th></th>\n",
        "      <th></th>\n",
        "      <th></th>\n",
        "      <th></th>\n",
        "      <th></th>\n",
        "      <th></th>\n",
        "    </tr>\n",
        "  </thead>\n",
        "  <tbody>\n",
        "    <tr>\n",
        "      <th>Malcolm D. Lee</th>\n",
        "      <td> 2</td>\n",
        "      <td> 2</td>\n",
        "      <td> 2</td>\n",
        "      <td> 2</td>\n",
        "      <td> 2</td>\n",
        "      <td> 2</td>\n",
        "      <td> 2</td>\n",
        "    </tr>\n",
        "    <tr>\n",
        "      <th>James Wan</th>\n",
        "      <td> 2</td>\n",
        "      <td> 2</td>\n",
        "      <td> 2</td>\n",
        "      <td> 2</td>\n",
        "      <td> 2</td>\n",
        "      <td> 2</td>\n",
        "      <td> 2</td>\n",
        "    </tr>\n",
        "    <tr>\n",
        "      <th>Adam McKay</th>\n",
        "      <td> 1</td>\n",
        "      <td> 1</td>\n",
        "      <td> 1</td>\n",
        "      <td> 1</td>\n",
        "      <td> 1</td>\n",
        "      <td> 1</td>\n",
        "      <td> 1</td>\n",
        "    </tr>\n",
        "    <tr>\n",
        "      <th>Louis Leterrier</th>\n",
        "      <td> 1</td>\n",
        "      <td> 1</td>\n",
        "      <td> 1</td>\n",
        "      <td> 1</td>\n",
        "      <td> 1</td>\n",
        "      <td> 1</td>\n",
        "      <td> 1</td>\n",
        "    </tr>\n",
        "    <tr>\n",
        "      <th>Morgan Spurlock</th>\n",
        "      <td> 1</td>\n",
        "      <td> 1</td>\n",
        "      <td> 1</td>\n",
        "      <td> 1</td>\n",
        "      <td> 1</td>\n",
        "      <td> 1</td>\n",
        "      <td> 1</td>\n",
        "    </tr>\n",
        "  </tbody>\n",
        "</table>\n",
        "</div>"
       ],
       "metadata": {},
       "output_type": "pyout",
       "prompt_number": 13,
       "text": [
        "                 Date  Title  Budget  DomesticTotalGross  Rating  Runtime  \\\n",
        "Director                                                                    \n",
        "Malcolm D. Lee      2      2       2                   2       2        2   \n",
        "James Wan           2      2       2                   2       2        2   \n",
        "Adam McKay          1      1       1                   1       1        1   \n",
        "Louis Leterrier     1      1       1                   1       1        1   \n",
        "Morgan Spurlock     1      1       1                   1       1        1   \n",
        "\n",
        "                 AvgDirectorGross  \n",
        "Director                           \n",
        "Malcolm D. Lee                  2  \n",
        "James Wan                       2  \n",
        "Adam McKay                      1  \n",
        "Louis Leterrier                 1  \n",
        "Morgan Spurlock                 1  "
       ]
      }
     ],
     "prompt_number": 13
    },
    {
     "cell_type": "code",
     "collapsed": false,
     "input": [
      "movies_with_bugdet['Ones'] = 1.0\n",
      "X = movies_with_bugdet[['Budget', 'AvgDirectorGross', 'Ones']]\n",
      "Y = movies_with_bugdet['DomesticTotalGross']\n",
      "linmodel = sm.OLS(Y, X).fit()\n",
      "linmodel.summary()"
     ],
     "language": "python",
     "metadata": {},
     "outputs": [
      {
       "html": [
        "<table class=\"simpletable\">\n",
        "<caption>OLS Regression Results</caption>\n",
        "<tr>\n",
        "  <th>Dep. Variable:</th>    <td>DomesticTotalGross</td> <th>  R-squared:         </th> <td>   0.997</td> \n",
        "</tr>\n",
        "<tr>\n",
        "  <th>Model:</th>                    <td>OLS</td>        <th>  Adj. R-squared:    </th> <td>   0.997</td> \n",
        "</tr>\n",
        "<tr>\n",
        "  <th>Method:</th>              <td>Least Squares</td>   <th>  F-statistic:       </th> <td>1.273e+04</td>\n",
        "</tr>\n",
        "<tr>\n",
        "  <th>Date:</th>              <td>Thu, 22 Jan 2015</td>  <th>  Prob (F-statistic):</th> <td>5.19e-105</td>\n",
        "</tr>\n",
        "<tr>\n",
        "  <th>Time:</th>                  <td>15:28:32</td>      <th>  Log-Likelihood:    </th> <td> -1465.7</td> \n",
        "</tr>\n",
        "<tr>\n",
        "  <th>No. Observations:</th>       <td>    87</td>       <th>  AIC:               </th> <td>   2937.</td> \n",
        "</tr>\n",
        "<tr>\n",
        "  <th>Df Residuals:</th>           <td>    84</td>       <th>  BIC:               </th> <td>   2945.</td> \n",
        "</tr>\n",
        "<tr>\n",
        "  <th>Df Model:</th>               <td>     2</td>       <th>                     </th>     <td> </td>    \n",
        "</tr>\n",
        "<tr>\n",
        "  <th>Covariance Type:</th>       <td>nonrobust</td>     <th>                     </th>     <td> </td>    \n",
        "</tr>\n",
        "</table>\n",
        "<table class=\"simpletable\">\n",
        "<tr>\n",
        "          <td></td>            <th>coef</th>     <th>std err</th>      <th>t</th>      <th>P>|t|</th> <th>[95.0% Conf. Int.]</th> \n",
        "</tr>\n",
        "<tr>\n",
        "  <th>Budget</th>           <td>    0.0016</td> <td>    0.011</td> <td>    0.144</td> <td> 0.885</td> <td>   -0.020     0.023</td>\n",
        "</tr>\n",
        "<tr>\n",
        "  <th>AvgDirectorGross</th> <td>    0.9994</td> <td>    0.007</td> <td>  135.083</td> <td> 0.000</td> <td>    0.985     1.014</td>\n",
        "</tr>\n",
        "<tr>\n",
        "  <th>Ones</th>             <td>-5.987e+04</td> <td> 9.45e+05</td> <td>   -0.063</td> <td> 0.950</td> <td>-1.94e+06  1.82e+06</td>\n",
        "</tr>\n",
        "</table>\n",
        "<table class=\"simpletable\">\n",
        "<tr>\n",
        "  <th>Omnibus:</th>       <td>40.173</td> <th>  Durbin-Watson:     </th> <td>   1.997</td>\n",
        "</tr>\n",
        "<tr>\n",
        "  <th>Prob(Omnibus):</th> <td> 0.000</td> <th>  Jarque-Bera (JB):  </th> <td>1598.288</td>\n",
        "</tr>\n",
        "<tr>\n",
        "  <th>Skew:</th>          <td> 0.053</td> <th>  Prob(JB):          </th> <td>    0.00</td>\n",
        "</tr>\n",
        "<tr>\n",
        "  <th>Kurtosis:</th>      <td>23.998</td> <th>  Cond. No.          </th> <td>2.74e+08</td>\n",
        "</tr>\n",
        "</table>"
       ],
       "metadata": {},
       "output_type": "pyout",
       "prompt_number": 14,
       "text": [
        "<class 'statsmodels.iolib.summary.Summary'>\n",
        "\"\"\"\n",
        "                            OLS Regression Results                            \n",
        "==============================================================================\n",
        "Dep. Variable:     DomesticTotalGross   R-squared:                       0.997\n",
        "Model:                            OLS   Adj. R-squared:                  0.997\n",
        "Method:                 Least Squares   F-statistic:                 1.273e+04\n",
        "Date:                Thu, 22 Jan 2015   Prob (F-statistic):          5.19e-105\n",
        "Time:                        15:28:32   Log-Likelihood:                -1465.7\n",
        "No. Observations:                  87   AIC:                             2937.\n",
        "Df Residuals:                      84   BIC:                             2945.\n",
        "Df Model:                           2                                         \n",
        "Covariance Type:            nonrobust                                         \n",
        "====================================================================================\n",
        "                       coef    std err          t      P>|t|      [95.0% Conf. Int.]\n",
        "------------------------------------------------------------------------------------\n",
        "Budget               0.0016      0.011      0.144      0.885        -0.020     0.023\n",
        "AvgDirectorGross     0.9994      0.007    135.083      0.000         0.985     1.014\n",
        "Ones             -5.987e+04   9.45e+05     -0.063      0.950     -1.94e+06  1.82e+06\n",
        "==============================================================================\n",
        "Omnibus:                       40.173   Durbin-Watson:                   1.997\n",
        "Prob(Omnibus):                  0.000   Jarque-Bera (JB):             1598.288\n",
        "Skew:                           0.053   Prob(JB):                         0.00\n",
        "Kurtosis:                      23.998   Cond. No.                     2.74e+08\n",
        "==============================================================================\n",
        "\n",
        "Warnings:\n",
        "[1] Standard Errors assume that the covariance matrix of the errors is correctly specified.\n",
        "[2] The condition number is large, 2.74e+08. This might indicate that there are\n",
        "strong multicollinearity or other numerical problems.\n",
        "\"\"\""
       ]
      }
     ],
     "prompt_number": 14
    },
    {
     "cell_type": "markdown",
     "metadata": {},
     "source": [
      "I would not use the average director gross as a feature in my model. Even though the R^2 is 0.997, we are effectively using gross to predict gross. Only 2 directors directed more than 1 film in this dataset. We must understand WHY we add features not just look for desirable outcomes in analysis."
     ]
    },
    {
     "cell_type": "code",
     "collapsed": false,
     "input": [],
     "language": "python",
     "metadata": {},
     "outputs": []
    }
   ],
   "metadata": {}
  }
 ]
}